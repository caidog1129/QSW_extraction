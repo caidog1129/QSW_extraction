{
 "cells": [
  {
   "cell_type": "code",
   "execution_count": 1,
   "metadata": {},
   "outputs": [],
   "source": [
    "import pandas as pd\n",
    "import re\n",
    "from tqdm import tqdm\n",
    "import math\n",
    "import numpy as np\n",
    "import json\n",
    "from ast import literal_eval"
   ]
  },
  {
   "cell_type": "code",
   "execution_count": 2,
   "metadata": {},
   "outputs": [],
   "source": [
    "df = pd.read_excel(\"Song_Offices_RegEx.xlsx\", sheet_name = \"Local\")\n",
    "df.dropna(inplace=True)"
   ]
  },
  {
   "cell_type": "code",
   "execution_count": 3,
   "metadata": {},
   "outputs": [],
   "source": [
    "prefix = \"[權發遣|添差|前|權|攝|充|贈|累贈|檢校|試]?\""
   ]
  },
  {
   "cell_type": "code",
   "execution_count": 4,
   "metadata": {},
   "outputs": [],
   "source": [
    "df_place = pd.read_excel(\"Song_Places.xlsx\")\n",
    "df_place.dropna(inplace=True)\n",
    "jiedu = \"\"\n",
    "for index in df_place.index:\n",
    "    row = df_place.loc[index]\n",
    "    jiedu += row['c_name_chn']\n",
    "    jiedu += \"|\"\n",
    "jiedu = \"(\" + jiedu[:-1] + \")\""
   ]
  },
  {
   "cell_type": "code",
   "execution_count": 5,
   "metadata": {},
   "outputs": [],
   "source": [
    "df_place = pd.read_excel(\"Song_Places.xlsx\", sheet_name = \"路\")\n",
    "df_place.dropna(inplace=True)\n",
    "lu = \"\"\n",
    "for index in df_place.index:\n",
    "    row = df_place.loc[index]\n",
    "    lu += row['c_name_chn']\n",
    "    lu += \"|\"\n",
    "lu = \"(\" + lu[:-1] + \")\""
   ]
  },
  {
   "cell_type": "code",
   "execution_count": 6,
   "metadata": {},
   "outputs": [],
   "source": [
    "df_place = pd.read_excel(\"Song_Places.xlsx\", sheet_name = \"州\")\n",
    "df_place.dropna(inplace=True)\n",
    "zhou = \"\"\n",
    "zfjj = \"\"\n",
    "for index in df_place.index:\n",
    "    row = df_place.loc[index]\n",
    "    zhou += row['c_name_chn']\n",
    "    zhou += \"|\"\n",
    "    zfjj += row['c_name_chn']\n",
    "    zfjj += \"|\"\n",
    "zhou = \"(\" + zhou[:-1] + \")\""
   ]
  },
  {
   "cell_type": "code",
   "execution_count": 7,
   "metadata": {},
   "outputs": [],
   "source": [
    "df_place = pd.read_excel(\"Song_Places.xlsx\", sheet_name = \"府\")\n",
    "df_place.dropna(inplace=True)\n",
    "fu = \"\"\n",
    "for index in df_place.index:\n",
    "    row = df_place.loc[index]\n",
    "    fu += row['c_name_chn']\n",
    "    fu += \"|\"\n",
    "    zfjj += row['c_name_chn']\n",
    "    zfjj += \"|\"\n",
    "fu = \"(\" + fu[:-1] + \")\""
   ]
  },
  {
   "cell_type": "code",
   "execution_count": 8,
   "metadata": {},
   "outputs": [],
   "source": [
    "df_place = pd.read_excel(\"Song_Places.xlsx\", sheet_name = \"軍\")\n",
    "df_place.dropna(inplace=True)\n",
    "jun = \"\"\n",
    "for index in df_place.index:\n",
    "    row = df_place.loc[index]\n",
    "    jun += row['c_name_chn']\n",
    "    jun += \"|\"\n",
    "    zfjj += row['c_name_chn']\n",
    "    zfjj += \"|\"\n",
    "jun = \"(\" + jun[:-1] + \")\""
   ]
  },
  {
   "cell_type": "code",
   "execution_count": 9,
   "metadata": {},
   "outputs": [],
   "source": [
    "df_place = pd.read_excel(\"Song_Places.xlsx\", sheet_name = \"監\")\n",
    "df_place.dropna(inplace=True)\n",
    "jian = \"\"\n",
    "for index in df_place.index:\n",
    "    row = df_place.loc[index]\n",
    "    jian += row['c_name_chn']\n",
    "    jian += \"|\"\n",
    "    zfjj += row['c_name_chn']\n",
    "    zfjj += \"|\"\n",
    "jian = \"(\" + jian[:-1] + \")\"\n",
    "zfjj = \"(\" + zfjj[:-1] + \")\""
   ]
  },
  {
   "cell_type": "code",
   "execution_count": 10,
   "metadata": {},
   "outputs": [],
   "source": [
    "df_place = pd.read_excel(\"Song_Places.xlsx\", sheet_name = \"縣\")\n",
    "df_place.dropna(inplace=True)\n",
    "xian = \"\"\n",
    "for index in df_place.index:\n",
    "    row = df_place.loc[index]\n",
    "    xian += row['c_name_chn']\n",
    "    xian += \"|\"\n",
    "xian = \"(\" + xian[:-1] + \")\""
   ]
  },
  {
   "cell_type": "code",
   "execution_count": 11,
   "metadata": {},
   "outputs": [],
   "source": [
    "for index in df.index:\n",
    "    df.loc[index, \"RegEx\"] = df.loc[index, \"RegEx\"].replace(\"||\", \"?|\")\n",
    "    df.loc[index, \"RegEx\"] = df.loc[index, \"RegEx\"].replace(\"|\", \"\")\n",
    "    df.loc[index, \"RegEx\"] = df.loc[index, \"RegEx\"].replace(\"[jiedu]\", jiedu)\n",
    "    df.loc[index, \"RegEx\"] = df.loc[index, \"RegEx\"].replace(\"[lu]\", lu)\n",
    "    df.loc[index, \"RegEx\"] = df.loc[index, \"RegEx\"].replace(\"[zhou]\", zhou)\n",
    "    df.loc[index, \"RegEx\"] = df.loc[index, \"RegEx\"].replace(\"[fu]\", fu)\n",
    "    df.loc[index, \"RegEx\"] = df.loc[index, \"RegEx\"].replace(\"[jun]\", jun)\n",
    "    df.loc[index, \"RegEx\"] = df.loc[index, \"RegEx\"].replace(\"[jian]\", jian)\n",
    "    df.loc[index, \"RegEx\"] = df.loc[index, \"RegEx\"].replace(\"[zfjj]\", zfjj)\n",
    "    df.loc[index, \"RegEx\"] = df.loc[index, \"RegEx\"].replace(\"[xian]\", xian)\n",
    "    df.loc[index, \"RegEx\"] = df.loc[index, \"RegEx\"].replace(\"(府軍監)\", \"(府|軍|監)\")"
   ]
  },
  {
   "cell_type": "code",
   "execution_count": 12,
   "metadata": {},
   "outputs": [],
   "source": [
    "df['len'] = df['c_office_chn_full'].apply(len)\n",
    "df = df.sort_values(\"len\", ascending=False, ignore_index=True)"
   ]
  },
  {
   "cell_type": "code",
   "execution_count": 13,
   "metadata": {},
   "outputs": [],
   "source": [
    "df_qsw_refined = pd.read_excel(\"data.xlsx\")"
   ]
  },
  {
   "cell_type": "code",
   "execution_count": 14,
   "metadata": {},
   "outputs": [
    {
     "name": "stderr",
     "output_type": "stream",
     "text": [
      "  0%|          | 7/258714 [00:02<105:15:50,  1.46s/it]/home/jc092/.local/lib/python3.7/site-packages/pandas/core/series.py:1056: SettingWithCopyWarning: \n",
      "A value is trying to be set on a copy of a slice from a DataFrame\n",
      "\n",
      "See the caveats in the documentation: https://pandas.pydata.org/pandas-docs/stable/user_guide/indexing.html#returning-a-view-versus-a-copy\n",
      "  cacher_needs_updating = self._check_is_chained_assignment_possible()\n",
      "100%|██████████| 258714/258714 [1:13:39<00:00, 58.54it/s] \n"
     ]
    }
   ],
   "source": [
    "for i in tqdm(df_qsw_refined.index):\n",
    "    row = df_qsw_refined.loc[i]\n",
    "    title = []\n",
    "    for index in df.index:\n",
    "        re_rule = \"(\" + prefix + df.loc[index, 'RegEx'] + \")\"\n",
    "        l = re.findall(re_rule, row['sent'])\n",
    "        if l:\n",
    "            for t in l:\n",
    "                row['sent'] = row['sent'].replace(t[0], \"/noc/\")\n",
    "                title.append(t[0])\n",
    "    if title:\n",
    "        df_qsw_refined.loc[i, \"no_noc\"] = str(title)"
   ]
  },
  {
   "cell_type": "code",
   "execution_count": 15,
   "metadata": {},
   "outputs": [],
   "source": [
    "df_qsw_refined.dropna(inplace = True)"
   ]
  },
  {
   "cell_type": "code",
   "execution_count": 16,
   "metadata": {},
   "outputs": [],
   "source": [
    "df_qsw_refined.to_excel(\"local_title_list.xlsx\")"
   ]
  },
  {
   "cell_type": "code",
   "execution_count": 44,
   "metadata": {},
   "outputs": [],
   "source": [
    "df_qsw_refined = pd.read_excel(\"local_title_list.xlsx\")"
   ]
  },
  {
   "cell_type": "code",
   "execution_count": 45,
   "metadata": {},
   "outputs": [],
   "source": [
    "df_qsw_refined.dropna(inplace=True)\n",
    "df_qsw_refined = df_qsw_refined.drop([\"Unnamed: 0\", \"Unnamed: 0.1\"], axis = 1)"
   ]
  },
  {
   "cell_type": "code",
   "execution_count": 47,
   "metadata": {},
   "outputs": [
    {
     "data": {
      "text/html": [
       "<div>\n",
       "<style scoped>\n",
       "    .dataframe tbody tr th:only-of-type {\n",
       "        vertical-align: middle;\n",
       "    }\n",
       "\n",
       "    .dataframe tbody tr th {\n",
       "        vertical-align: top;\n",
       "    }\n",
       "\n",
       "    .dataframe thead th {\n",
       "        text-align: right;\n",
       "    }\n",
       "</style>\n",
       "<table border=\"1\" class=\"dataframe\">\n",
       "  <thead>\n",
       "    <tr style=\"text-align: right;\">\n",
       "      <th></th>\n",
       "      <th>content_id</th>\n",
       "      <th>subject</th>\n",
       "      <th>author</th>\n",
       "      <th>sent</th>\n",
       "      <th>content</th>\n",
       "      <th>no_noc</th>\n",
       "    </tr>\n",
       "  </thead>\n",
       "  <tbody>\n",
       "    <tr>\n",
       "      <th>8</th>\n",
       "      <td>8715497</td>\n",
       "      <td>申之</td>\n",
       "      <td>杜士熊</td>\n",
       "      <td>次授常州兵馬監押/ws1ep/未赴</td>\n",
       "      <td>〔額文〕宋故都監杜公墓碑〔碑文〕先君姓杜，諱申之，字伯禄，世居嘉興府華亭之章廟。曾祖顯，故不...</td>\n",
       "      <td>['常州兵馬監押']</td>\n",
       "    </tr>\n",
       "    <tr>\n",
       "      <th>28</th>\n",
       "      <td>5958020</td>\n",
       "      <td>徐洪</td>\n",
       "      <td>鄧光薦</td>\n",
       "      <td>問其居/ws1ep/則句曲之南所謂斗谿者也/ws2ep/問其世/ws1ep/則曰/wm/‘斗...</td>\n",
       "      <td>頃予登句曲，直東南望，數峰儼然，水倉玉立。其下谿谷迴合，林隰衍沃，其氣乍清乍潤，類非山澤枯槁...</td>\n",
       "      <td>['蕪湖尉']</td>\n",
       "    </tr>\n",
       "    <tr>\n",
       "      <th>62</th>\n",
       "      <td>5958020</td>\n",
       "      <td>徐洪</td>\n",
       "      <td>鄧光薦</td>\n",
       "      <td>二十七年/ws1ep/桂子擢辛未進士第/ws1ep/任蘄州蘄春縣尉</td>\n",
       "      <td>頃予登句曲，直東南望，數峰儼然，水倉玉立。其下谿谷迴合，林隰衍沃，其氣乍清乍潤，類非山澤枯槁...</td>\n",
       "      <td>['蘄春縣尉']</td>\n",
       "    </tr>\n",
       "    <tr>\n",
       "      <th>319</th>\n",
       "      <td>5749297</td>\n",
       "      <td>陳龜年</td>\n",
       "      <td>陳亮</td>\n",
       "      <td>特旨以‘久在東宫/ws1ep/服勤不懈’/ws1ep/帶文州刺史/ws1ep/除成州團練使</td>\n",
       "      <td>始余出國北門，彌望沮洳之地而帶以一水，岸行不足以容車馬，湖泊往往隨在而有。舟至松江，風濤汹湧...</td>\n",
       "      <td>['成州團練使', '文州刺史']</td>\n",
       "    </tr>\n",
       "    <tr>\n",
       "      <th>320</th>\n",
       "      <td>5749297</td>\n",
       "      <td>陳龜年</td>\n",
       "      <td>陳亮</td>\n",
       "      <td>爲皇孫平陽郡王伴讀有勞/ws1ep/授和州防禦使</td>\n",
       "      <td>始余出國北門，彌望沮洳之地而帶以一水，岸行不足以容車馬，湖泊往往隨在而有。舟至松江，風濤汹湧...</td>\n",
       "      <td>['和州防禦使']</td>\n",
       "    </tr>\n",
       "    <tr>\n",
       "      <th>...</th>\n",
       "      <td>...</td>\n",
       "      <td>...</td>\n",
       "      <td>...</td>\n",
       "      <td>...</td>\n",
       "      <td>...</td>\n",
       "      <td>...</td>\n",
       "    </tr>\n",
       "    <tr>\n",
       "      <th>258580</th>\n",
       "      <td>4966982</td>\n",
       "      <td>賈潭</td>\n",
       "      <td>徐鉉</td>\n",
       "      <td>五代祖孫/ws1ep/衡州刺史/ws2ep/高祖穜/ws1ep/司門員外郎/ws2ep/曾祖...</td>\n",
       "      <td>公諱潭，字孟澤，洛陽人也。周先同姓，即列國之諸侯；漢得名臣，乃洛陽之才子。攀鱗河北，豈須方面...</td>\n",
       "      <td>['衡州刺史']</td>\n",
       "    </tr>\n",
       "    <tr>\n",
       "      <th>258585</th>\n",
       "      <td>4966982</td>\n",
       "      <td>賈潭</td>\n",
       "      <td>徐鉉</td>\n",
       "      <td>及行瑜就戮/ws1ep/優詔徵還/ws1ep/復出爲常州刺史/ws3ep/鹽鐵/ws3ep/...</td>\n",
       "      <td>公諱潭，字孟澤，洛陽人也。周先同姓，即列國之諸侯；漢得名臣，乃洛陽之才子。攀鱗河北，豈須方面...</td>\n",
       "      <td>['常州刺史']</td>\n",
       "    </tr>\n",
       "    <tr>\n",
       "      <th>258588</th>\n",
       "      <td>4966982</td>\n",
       "      <td>賈潭</td>\n",
       "      <td>徐鉉</td>\n",
       "      <td>景福二年/ws1ep/以學究一經/ws1ep/射策高第/ws1ep/釋褐京兆府參軍事/ws1...</td>\n",
       "      <td>公諱潭，字孟澤，洛陽人也。周先同姓，即列國之諸侯；漢得名臣，乃洛陽之才子。攀鱗河北，豈須方面...</td>\n",
       "      <td>['京兆府參軍事']</td>\n",
       "    </tr>\n",
       "    <tr>\n",
       "      <th>258605</th>\n",
       "      <td>4966982</td>\n",
       "      <td>賈潭</td>\n",
       "      <td>徐鉉</td>\n",
       "      <td>于是避寵台衡/ws1ep/就安關輔/ws1ep/除泰州刺史</td>\n",
       "      <td>公諱潭，字孟澤，洛陽人也。周先同姓，即列國之諸侯；漢得名臣，乃洛陽之才子。攀鱗河北，豈須方面...</td>\n",
       "      <td>['泰州刺史']</td>\n",
       "    </tr>\n",
       "    <tr>\n",
       "      <th>258679</th>\n",
       "      <td>4966988</td>\n",
       "      <td>江文蔚</td>\n",
       "      <td>徐鉉</td>\n",
       "      <td>江州節度使賈公崇/ws1ep/以武立功/ws1ep/以剛肅物/ws1ep/事公如師傅/ws1...</td>\n",
       "      <td>公諱文蔚，字君章。其先濟陽考城人也。昔高陽恢若水之靈，光有萬國；伯益獲箕山之護，克成夏功。故...</td>\n",
       "      <td>['江州節度使']</td>\n",
       "    </tr>\n",
       "  </tbody>\n",
       "</table>\n",
       "<p>11840 rows × 6 columns</p>\n",
       "</div>"
      ],
      "text/plain": [
       "        content_id subject author  \\\n",
       "8          8715497      申之    杜士熊   \n",
       "28         5958020      徐洪    鄧光薦   \n",
       "62         5958020      徐洪    鄧光薦   \n",
       "319        5749297     陳龜年     陳亮   \n",
       "320        5749297     陳龜年     陳亮   \n",
       "...            ...     ...    ...   \n",
       "258580     4966982      賈潭     徐鉉   \n",
       "258585     4966982      賈潭     徐鉉   \n",
       "258588     4966982      賈潭     徐鉉   \n",
       "258605     4966982      賈潭     徐鉉   \n",
       "258679     4966988     江文蔚     徐鉉   \n",
       "\n",
       "                                                     sent  \\\n",
       "8                                       次授常州兵馬監押/ws1ep/未赴   \n",
       "28      問其居/ws1ep/則句曲之南所謂斗谿者也/ws2ep/問其世/ws1ep/則曰/wm/‘斗...   \n",
       "62                      二十七年/ws1ep/桂子擢辛未進士第/ws1ep/任蘄州蘄春縣尉   \n",
       "319         特旨以‘久在東宫/ws1ep/服勤不懈’/ws1ep/帶文州刺史/ws1ep/除成州團練使   \n",
       "320                              爲皇孫平陽郡王伴讀有勞/ws1ep/授和州防禦使   \n",
       "...                                                   ...   \n",
       "258580  五代祖孫/ws1ep/衡州刺史/ws2ep/高祖穜/ws1ep/司門員外郎/ws2ep/曾祖...   \n",
       "258585  及行瑜就戮/ws1ep/優詔徵還/ws1ep/復出爲常州刺史/ws3ep/鹽鐵/ws3ep/...   \n",
       "258588  景福二年/ws1ep/以學究一經/ws1ep/射策高第/ws1ep/釋褐京兆府參軍事/ws1...   \n",
       "258605                      于是避寵台衡/ws1ep/就安關輔/ws1ep/除泰州刺史   \n",
       "258679  江州節度使賈公崇/ws1ep/以武立功/ws1ep/以剛肅物/ws1ep/事公如師傅/ws1...   \n",
       "\n",
       "                                                  content             no_noc  \n",
       "8       〔額文〕宋故都監杜公墓碑〔碑文〕先君姓杜，諱申之，字伯禄，世居嘉興府華亭之章廟。曾祖顯，故不...         ['常州兵馬監押']  \n",
       "28      頃予登句曲，直東南望，數峰儼然，水倉玉立。其下谿谷迴合，林隰衍沃，其氣乍清乍潤，類非山澤枯槁...            ['蕪湖尉']  \n",
       "62      頃予登句曲，直東南望，數峰儼然，水倉玉立。其下谿谷迴合，林隰衍沃，其氣乍清乍潤，類非山澤枯槁...           ['蘄春縣尉']  \n",
       "319     始余出國北門，彌望沮洳之地而帶以一水，岸行不足以容車馬，湖泊往往隨在而有。舟至松江，風濤汹湧...  ['成州團練使', '文州刺史']  \n",
       "320     始余出國北門，彌望沮洳之地而帶以一水，岸行不足以容車馬，湖泊往往隨在而有。舟至松江，風濤汹湧...          ['和州防禦使']  \n",
       "...                                                   ...                ...  \n",
       "258580  公諱潭，字孟澤，洛陽人也。周先同姓，即列國之諸侯；漢得名臣，乃洛陽之才子。攀鱗河北，豈須方面...           ['衡州刺史']  \n",
       "258585  公諱潭，字孟澤，洛陽人也。周先同姓，即列國之諸侯；漢得名臣，乃洛陽之才子。攀鱗河北，豈須方面...           ['常州刺史']  \n",
       "258588  公諱潭，字孟澤，洛陽人也。周先同姓，即列國之諸侯；漢得名臣，乃洛陽之才子。攀鱗河北，豈須方面...         ['京兆府參軍事']  \n",
       "258605  公諱潭，字孟澤，洛陽人也。周先同姓，即列國之諸侯；漢得名臣，乃洛陽之才子。攀鱗河北，豈須方面...           ['泰州刺史']  \n",
       "258679  公諱文蔚，字君章。其先濟陽考城人也。昔高陽恢若水之靈，光有萬國；伯益獲箕山之護，克成夏功。故...          ['江州節度使']  \n",
       "\n",
       "[11840 rows x 6 columns]"
      ]
     },
     "execution_count": 47,
     "metadata": {},
     "output_type": "execute_result"
    }
   ],
   "source": [
    "df_qsw_refined"
   ]
  },
  {
   "cell_type": "code",
   "execution_count": 18,
   "metadata": {},
   "outputs": [
    {
     "name": "stderr",
     "output_type": "stream",
     "text": [
      "/home/jc092/.local/lib/python3.7/site-packages/pandas/core/series.py:1056: SettingWithCopyWarning: \n",
      "A value is trying to be set on a copy of a slice from a DataFrame\n",
      "\n",
      "See the caveats in the documentation: https://pandas.pydata.org/pandas-docs/stable/user_guide/indexing.html#returning-a-view-versus-a-copy\n",
      "  cacher_needs_updating = self._check_is_chained_assignment_possible()\n"
     ]
    }
   ],
   "source": [
    "row = df_qsw_refined.iloc[258519]\n",
    "title = []\n",
    "for index in df.index:\n",
    "    re_rule = \"(\" + prefix + df.loc[index, 'RegEx'] + \")\"\n",
    "    l = re.findall(re_rule, row['sent'])\n",
    "    if l:\n",
    "        for t in l:\n",
    "            row['sent'] = row['sent'].replace(t[0], \"/noc/\")\n",
    "            title.append(t[0])"
   ]
  },
  {
   "cell_type": "code",
   "execution_count": 19,
   "metadata": {},
   "outputs": [
    {
     "data": {
      "text/plain": [
       "['建州録事參軍']"
      ]
     },
     "execution_count": 19,
     "metadata": {},
     "output_type": "execute_result"
    }
   ],
   "source": [
    "title"
   ]
  },
  {
   "cell_type": "code",
   "execution_count": 20,
   "metadata": {},
   "outputs": [
    {
     "data": {
      "text/plain": [
       "'高祖復/ws1ep/右監門衛將軍/ws2ep/曾祖琳/ws1ep//noc//ws2ep/祖晟/ws1ep/青州博昌縣令'"
      ]
     },
     "execution_count": 20,
     "metadata": {},
     "output_type": "execute_result"
    }
   ],
   "source": [
    "row[\"sent\"]"
   ]
  },
  {
   "cell_type": "code",
   "execution_count": 25,
   "metadata": {},
   "outputs": [
    {
     "data": {
      "text/plain": [
       "'(雄州|恩州|嚴州|通州|承州|平州|順州|青州|密州|齊州|沂州|登州|萊州|濰州|淄州|宋州|兗州|徐州|曹州|鄆州|濟州|單州|濮州|拱州|襄州|鄧州|隨州|金州|房州|均州|郢州|唐州|許州|鄭州|滑州|孟州|蔡州|陳州|潁州|汝州|魏州|澶州|瀛州|滄州|博州|冀州|棣州|莫州|霸州|德州|濱州|貝州|清州|鎮州|相州|定州|邢州|浚州|懷州|衛州|洺州|深州|磁州|祁州|趙州|保州|并州|潞州|晉州|絳州|澤州|代州|忻州|汾州|遼州|憲州|嵐州|石州|隰州|慈州|麟州|府州|豐州|沁州|解州|陝州|商州|虢州|同州|華州|耀州|延州|丹州|坊州|鄜州|銀州|慶州|環州|邠州|寧州|乾州|醴州|秦州|儀州|隴州|成州|鳳州|階州|渭州|涇州|原州|會州|西安州|熙州|河州|鞏州|岷州|西和州|蘭州|洮州|廓州|樂州|湟州|西寧州|杭州|蘇州|潤州|秀州|安吉州|湖州|常州|睦州|越州|明州|溫州|婺州|台州|衢州|處州|揚州|亳州|宿州|楚州|寶應州|淮安州|海州|西海州|泰州|泗州|滁州|真州|安東州|壽州|廬州|蘄州|和州|舒州|濠州|光州|蔣州|黃州|昇州|宣州|徽州|歙州|池州|饒州|信州|太平州|洪州|江州|虔州|贛州|吉州|袁州|撫州|瑞州|筠州|鄂州|安州|復州|鼎州|朗州|澧州|峽州|岳州|歸州|辰州|沅州|懿州|誠州|靖州|潭州|衡州|道州|永州|郴州|邵州|全州|福州|建州|泉州|南劍州|漳州|汀州|益州|眉州|蜀州|彭州|綿州|漢州|嘉州|邛州|簡州|黎州|雅州|茂州|祺州|威州|維州|亨州|陵州|隆州|梓州|遂州|果州|資州|普州|昌州|敘州|戎州|瀘州|江安州|純州|滋州|祥州|合州|渠州|榮州|利州|洋州|閬州|劍州|巴州|壁州|集州|文州|沔州|興州|蓬州|政州|龍州|夔州|黔州|施州|忠州|萬州|開州|達州|涪州|恭州|渝州|溱州|珍州|思州|播州|廣州|韶州|循州|潮州|連州|梅州|南雄州|英州|賀州|封州|端州|新州|康州|瀧州|南恩州|春州|惠州|桂州|溥州|容州|禺州|繡州|邕州|勤州|思明州|融州|象州|昭州|蒙州|富州|梧州|藤州|南儀州|龔州|潯州|柳州|貴州|宜州|賓州|澄州|橫州|辯州|化州|羅州|高州|潘州|竇州|雷州|欽州|白州|鬱林州|黨州|牢州|廉州|常樂州|瓊州|儋州|萬安州|崖州|觀州|涿州|檀州|易州|營州|薊州|景州|武州|應州|朔州|蔚州|奉聖州|歸化州|儒州|媯州|崇州|夏州|積石州|蒲州|雍州|靈州|荊州|思唐州|振州|欽州|雄州|恩州|嚴州|通州|承州|平州|順州|開封|濟南|應天|襲慶|興仁|東平|襄陽|河南|潁昌|淮寧|順昌|大名|開德|河間|真定|中山|信德|慶源|太原|隆德|平陽|京兆|河中|延安|慶陽|鳳翔|同慶|臨安|平江|鎮江|嘉興|建德|紹興|慶元|瑞安|壽春|安慶|建康|江寧|寧國|隆興|江陵|德安|常德|寶慶|建寧|成都|崇慶|嘉定|潼川|遂寧|順慶|紹熙|興元|隆慶|紹慶|咸淳|重慶|英德|肇慶|德慶|靜江|慶遠|燕山|雲中|永興|淮安|南平|淮陽|廣濟|棗陽|光化|義陽|信陽|乾寧|德清|保順|永靜|信安|破虜|保定|平戎|安利|通利|保塞|安肅|靜戎|永寧|寧邊|威勇|廣信|順安|威勝|平定|岢嵐|寧化|火山|定羌|保德|晉寧|慶成|清平|保安|綏德|定邊|德順|鎮戎|懷德|通遠|積石|震武|江陰|建安|高郵|漣水|招信|盱眙|天長|清河|安豐|六安|無為|懷遠|南康|廣德|興國|南安|臨江|建武|建昌|荊門|漢陽|壽昌|茶陵|桂陽|武岡|邵武|興化|永康|石泉|長寧|懷安|寧西|廣安|大安|天水|雲安|梁山|遵義|太平|昌化|南寧|萬安|朱崖|吉陽|宣化|靜安|慶祚|靜樂|衣錦|順化|鎮巢|渠陽|通化|永安|定遠|保|永定|崇信|廣陽|平晉|雄遠|平江|公安|壽|龍陽|淮安|南平|永興|鎮靜|萊蕪|桂陽|仙井|陵井|富義|富順|大寧|大通|永平|淯井)(府|軍|監)?(石泉|寧遠|寧遠|安化|新城|安仁|石城|新城|咸寧|安化|安仁|永興|建寧|石城|石泉|梁縣|寶豐|容城|太平|永和|樂平|天水|河池|華亭|昌化|華亭|建德|新昌|平陽|永康|仙居|龍遊|龍泉|懷仁|清流|興化|梁縣|太平|銅陵|建德|樂平|永豐|南昌|武寧|德化|安遠|龍泉|永豐|新昌|清江|永平|桂陽|平陽|新寧|永福|長樂|懷安|南安|安溪|德化|寧化|清流|興化|永康|龍遊|永泰|龍水|宣化|天水|清江|臨江|武寧|清水|新寧|信安|樂昌|興寧|長樂|桂陽|真陽|永福|義寧|宣化|柳城|龍水|河池|永定|信宜|信宜|安遠|昌化|吉陽|開封|祥符|尉氏|陳留|雍丘|封丘|中牟|陽武|延津|長垣|東明|扶溝|鄢陵|考城|太康|咸平|益都|壽光|臨朐|博興|千乘|臨淄|諸城|安丘|莒縣|高密|膠西|歷城|禹城|章丘|長清|臨邑|臨沂|承縣|沂水|費縣|新泰|蓬萊|文登|黃縣|牟平|掖縣|萊陽|膠水|即墨|北海|昌邑|昌樂|淄川|長山|鄒平|高苑|下邳|寧陵|宋城|穀熟|下邑|虞城|楚丘|瑕縣|奉符|泗水|龔縣|仙源|萊蕪|鄒縣|彭城|沛縣|蕭縣|滕縣|豐縣|濟陰|宛亭|乘氏|南華|須城|陽穀|中都|壽張|東阿|平陰|鉅野|任城|金鄉|鄆城|單父|碭山|成武|魚臺|鄄城|雷澤|臨濮|范縣|襄邑|柘城|定陶|襄陽|鄧城|穀城|宜城|中廬|南漳|穰縣|南陽|內鄉|順陽|淅川|隨縣|唐城|棗陽|西城|洵陽|漢陰|平利|房陵|竹山|武當|鄖鄉|長壽|京山|泌陽|湖陽|比陽|桐柏|方城|乾德|河南|洛陽|偃師|潁陽|王屋|鞏縣|密縣|新安|福昌|伊陽|長水|壽安|河清|登封|長社|郾城|陽翟|長葛|臨潁|舞陽|郟|管城|滎澤|原武|新鄭|滎陽|白馬|韋城|胙城|河陽|濟源|溫縣|汜水|澠池|汝陽|上蔡|新蔡|褒信|遂平|新息|確山|西平|平輿|宛丘|項城|商水|西華|南頓|汝陰|潁上|沈丘|襄城|葉縣|魯山|信陽|羅山|元城|莘縣|大名|內黃|成安|魏縣|館陶|夏津|臨清|清平|冠氏|宗城|濮陽|觀城|臨河|清豐|衛南|朝城|南樂|河間|樂壽|束城|清池|無棣|鹽山|樂陵|南皮|聊城|高唐|堂邑|博平|信都|蓨縣|南宮|棗強|武邑|衡水|厭次|商河|陽信|任丘|歸信|文安|大城|安德|招安|渤海|武城|歷亭|乾寧|東光|將陵|阜城|真定|槁城|欒城|元氏|井陘|獲鹿|平山|靈壽|安陽|湯陰|臨漳|林慮|安喜|無極|曲陽|唐縣|望都|新樂|北平|邢臺|沙河|任縣|堯山|平鄉|內丘|南和|鉅鹿|衛縣|黎陽|河內|修武|武陟|獲嘉|汲縣|新鄉|共城|永年|肥鄉|平恩|雞澤|曲周|靜安|束鹿|安平|饒陽|武強|滏陽|邯鄲|武安|蒲陰|鼓城|深澤|平棘|寧晉|臨城|高邑|隆平|柏鄉|贊皇|保塞|安肅|博野|遂城|高陽|陽曲|太谷|榆次|壽陽|盂縣|交城|文水|祁縣|清源|平晉|上黨|屯留|襄垣|潞城|壺關|長子|涉縣|黎城|臨汾|洪洞|襄陵|神山|趙城|汾西|霍邑|冀氏|岳陽|和川|正平|曲沃|翼城|稷山|絳縣|垣曲|晉城|高平|陽城|端氏|陵川|沁水|雁門|崞縣|五臺|繁畤|秀容|定襄|西河|平遙|介休|靈石|孝義|遼山|和順|榆社|平城|靜樂|宜芳|合河|樓煩|離石|平夷|方山|隰川|溫泉|蒲縣|大寧|石樓|吉鄉|新秦|府谷|銅鞮|武鄉|沁源|綿上|平定|嵐谷|臨泉|定胡|長安|樊川|鄠縣|藍田|咸陽|涇陽|櫟陽|高陵|興平|臨潼|醴泉|武功|乾祐|河東|臨晉|猗氏|虞鄉|萬泉|榮河|解縣|聞喜|安邑|陝縣|平陸|夏縣|靈寶|芮城|湖城|閿鄉|上洛|商洛|洛南|豐陽|上津|盧氏|虢略|朱陽|欒川|馮翊|澄城|朝邑|郃陽|白水|韓城|鄭縣|下邽|蒲城|華陰|渭南|華原|富平|三原|雲陽|同官|美原|終南|膚施|延川|延長|門山|臨真|敷政|甘泉|中部|宜君|宜川|合水|彭原|通遠|新平|宜祿|三水|定平|襄樂|真寧|奉天|永壽|好畤|定邊|成紀|隴城|天興|岐山|扶風|盩厔|郿縣|寶雞|虢縣|麟遊|普潤|汧源|汧陽|吳山|隴安|同谷|栗亭|梁泉|兩當|福津|將利|平涼|潘原|崇信|靈臺|良原|長武|臨涇|彭陽|隴干|平高|敷川|狄道|寧河|隴西|祐川|大潭|長道|蘭泉|錢塘|仁和|餘杭|臨安|富陽|於潛|鹽官|吳縣|長洲|崑山|常熟|吳江|嘉定|丹徒|丹陽|金壇|嘉興|海鹽|崇德|烏程|歸安|安吉|長興|德清|武康|晉陵|武進|宜興|無錫|淳安|桐廬|分水|遂安|壽昌|江陰|會稽|山陰|嵊縣|諸暨|餘姚|上虞|蕭山|鄞縣|奉化|慈溪|定海|象山|昌國|永嘉|瑞安|樂清|金華|義烏|武義|浦江|蘭溪|東陽|臨海|黃巖|寧海|天台|西安|禮賢|開化|麗水|松陽|遂昌|縉雲|青田|慶元|江都|泰興|譙縣|城父|酇縣|永城|衛真|鹿邑|蒙城|符離|蘄縣|臨渙|靈壁|虹縣|山陽|鹽城|淮陰|寶應|朐山|沭陽|東海|海陵|如皐|臨淮|淮平|盱眙|全椒|來安|揚子|六合|靜海|海門|高郵|漣水|天長|招信|五河|下蔡|安豐|霍丘|壽春|六安|合肥|舒城|蘄春|蘄水|廣濟|黃梅|羅田|歷陽|含山|烏江|懷寧|桐城|宿松|望江|太湖|鍾離|定遠|定城|固始|光山|黃岡|黃陂|麻城|無為|巢縣|廬江|荊山|上元|江寧|句容|溧水|溧陽|宣城|南陵|寧國|旌德|涇縣|歙縣|休寧|祁門|婺源|績溪|黟縣|貴池|青陽|石埭|東流|鄱陽|餘干|浮梁|德興|上饒|玉山|弋陽|貴溪|鉛山|當塗|蕪湖|繁昌|星子|建昌|都昌|廣德|建平|新建|奉新|豐城|分寧|靖安|進賢|德安|瑞昌|湖口|彭澤|贛縣|虔化|興國|信豐|雩都|會昌|瑞金|龍南|廬陵|吉水|安福|太和|永新|宜春|分宜|萍鄉|萬載|臨川|崇仁|宜黃|金谿|樂安|高安|上高|大冶|通山|南康|大庾|上猶|新淦|新喻|南城|南豐|廣昌|江陵|公安|潛江|監利|松滋|石首|枝江|江夏|崇陽|武昌|蒲圻|通城|嘉魚|安陸|應城|孝感|應山|雲夢|景陵|玉沙|武陵|桃源|龍陽|沅江|澧陽|安鄉|石門|慈利|夷陵|宜都|長陽|遠安|巴陵|華容|平江|臨湘|秭歸|沅陵|敘浦|辰溪|盧溪|盧陽|麻陽|黔陽|會同|通道|長林|當陽|漢陽|漢川|長沙|衡山|醴陵|攸縣|湘鄉|湘潭|益陽|瀏陽|湘陰|寧鄉|善化|衡陽|耒陽|常寧|營道|江華|永明|零陵|祁陽|東安|郴縣|宜章|桂東|邵陽|新化|清湘|灌陽|茶陵|酃縣|藍山|臨武|武岡|綏寧|臨岡|閩縣|侯官|福清|古田|長溪|羅源|閩清|寧德|連江|建安|浦城|嘉禾|松溪|崇安|政和|甌寧|晉江|同安|惠安|永春|劍浦|將樂|順昌|沙縣|尤溪|龍溪|漳浦|龍巖|長泰|長汀|上杭|武平|蓮城|邵武|光澤|泰寧|莆田|仙遊|成都|華陽|新都|郫縣|雙流|溫江|新繁|廣都|靈泉|眉山|彭山|丹稜|青神|晉原|新津|江原|九隴|崇寧|濛陽|巴西|彰明|魏城|羅江|鹽泉|雒縣|什邡|綿竹|德陽|洪雅|夾江|峨眉|犍為|臨邛|依政|大邑|蒲江|火井|陽安|平泉|漢源|嚴道|盧山|名山|榮經|百丈|汶山|春祺|汶川|保寧|嘉會|通化|導江|青城|仁壽|井研|貴平|籍縣|神泉|龍安|郪縣|中江|涪城|射洪|鹽亭|通泉|飛烏|銅山|東關|小溪|蓬溪|長江|青石|遂寧|南充|西充|流溪|盤石|資陽|內江|安岳|安居|樂至|大足|昌元|永川|宜賓|南溪|慶符|瀘川|九支|仁懷|江安|承流|合江|納溪|安寧|石照|漢初|巴川|赤水|銅梁|流江|鄰水|鄰山|大竹|金水|金堂|榮德|威遠|資官|應靈|渠江|岳池|新明|和溪|富順|南鄭|城固|褒城|西縣|廉水|綿谷|葭萌|嘉川|昭化|興道|西鄉|真符|閬中|蒼溪|南部|新井|奉國|新政|西水|普安|梓潼|陰平|武連|普成|劍門|化城|難江|恩陽|曾口|通江|曲水|順政|長舉|蓬池|儀隴|營山|相如|伏虞|良山|江油|清川|三泉|奉節|巫山|彭水|黔江|建始|墊江|南賓|豐都|龍渠|南浦|開江|通川|巴渠|永睦|東鄉|通明|涪陵|樂溫|武龍|巴縣|江津|壁山|雲安|梁山|南川|溱溪|隆化|夜郎|大昌|樂源|遵義|綏陽|都上|義泉|寧夷|洋川|務川|安夷|邛水|播川|琅川|帶水|南海|番禺|增城|清遠|懷集|東莞|新會|香山|曲江|翁源|仁化|建福|乳源|龍川|海陽|潮陽|揭陽|陽山|連山|程鄉|保昌|始興|浛光|臨賀|富川|桂嶺|封川|開建|高要|四會|新興|端溪|瀧水|陽江|陽春|歸善|海豐|河源|博羅|臨桂|興安|靈川|荔浦|修仁|理定|古縣|陽朔|普寧|常林|峨石|陸川|阿林|扶萊|北流|龍化|羅辨|羅繡|陵城|武緣|融水|懷遠|陽壽|來賓|武化|武仙|平樂|思勤|立山|馬江|龍平|恭城|蒼梧|鐔津|岑溪|平南|桂平|馬平|洛容|鬱林|天河|忻城|思恩|領方|止戈|遷江|賀水|上林|無虞|寧浦|石龍|吳川|電白|茂名|海康|遂溪|徐聞|靈山|博白|南流|定川|容山|興業|宕川|懷義|撫康|善牢|合浦|石康|瓊山|澄邁|文昌|臨高|樂會|宜倫|感恩|萬寧|陵水|盧龍|馬城|析津|宛平|廣寧|昌平|良鄉|潞縣|武清|安次|玉河|香河|漷陰|范陽|歸義|固安|密雲|易水|淶水|懷柔|龍豪|溫水|南河|漁陽|三河|玉田|懷德|萬安|光化|臨津|永泰|清溪|歸化|浚儀|酸棗|臨濟|乾封|曲阜|瑕丘|龔丘|冤句|樂鄉|淯陽|上庸|豐利|富水|伊闕|緱氏|許田|靈河|朗山|龍興|鍾山|永濟|洹水|經城|頓丘|景城|饒安|長蘆|新河|堂陽|鄚縣|長豐|滇昌|德平|安陵|蒲臺|清陽|漳南|九門|石邑|鄴縣|陘邑|龍岡|武德|臨洺|陸澤|下博|昭義|昭慶|滿城|青苑|唐林|天池|玄池|鄉寧|文城|銀城|連谷|萬年|昭應|永樂|寶鼎|河西|玉城|常農|硤石|夏陽|奉先|豐林|金明|延水|昇平|汾川|雲巖|義川|洛交|洛川|鄜城|直羅|三川|樂蟠|華池|同川|豐義|枹罕|南新|錢江|新登|橫山|延陵|義興|青溪|義安|剡縣|江山|常山|盈川|劍川|白龍|永正|真源|零壁|淮安|徐城|招義|盛唐|霍山|慎縣|期思|寧都|虔南|泉江|建城|沔陽|辰陽|巴山|王朝|招諭|三江|渠陽|羅蒙|大歷|弘道|延唐|郴義|義章|高亭|蒔竹|永貞|福安|建陽|關隸|犀浦|靈池|通義|唐安|堋口|唐昌|西昌|綏山|羅目|玉津|平羌|臨溪|通望|金川|始建|玄武|方義|銀山|月山|丹山|普康|崇龕|開邊|歸順|僰道|義賓|綿水|富義|涇南|石鏡|公井|和義|旭川|平蜀|益昌|裔山|晉安|永歸|盤道|歸仁|始寧|其章|七盤|清化|白石|符陽|略陽|蓬山|宕渠|朗池|洪都|洋水|信寧|都濡|桂溪|新浦|萬歲|石鼓|宣漢|閬英|三岡|溫山|枳縣|賓化|南平|安義|洊水|蒙化|常康|含洭|雷鄉|滇陽|蕩山|封陽|馮乘|平興|永順|悅城|晉康|都城|恩平|杜陵|慕化|全義|豐水|欣道|渭龍|郎寧|封陵|思籠|如和|晉興|羅城|武陽|蒙山|東區|昭平|戎城|孟陵|感義|義昌|寧風|武林|隋建|陽川|武郎|皇化|大賓|象縣|龍城|懷澤|義山|潮水|洛漕|宜山|琅琊|保城|樂山|從化|嶺山|陵羅|良德|欽江|內亭|保京|安京|周羅|鬱平|興德|封山|蔡龍|大廉|舍城|義倫|易縣|雲中|天成|長青|奉義|金城|渾源|鄯陽|馬邑|靈仙|飛狐|靈丘|礬山|望雲|文德|縉山|懷來|迴樂|神武|安國|橋江|大牟|通平|開陽|建水|鎮南|羅水|流南|富林|正義|永業|連城|武羅|靈竹|廉江|幹水|零祿|潘水|南邑|潭峨|特亮|鹽場|建寧|萬安|清河|廣陵|興寧|永清|巴東|興山|保定|永定|昭德|南安|臨津|樂昌|資興|永安|永寧|保定|安仁|河陰|真陽|平原|行唐|龍門|淳化|定安|清水|仙居|銅陵|宿遷|永安|萬壽|永昌|寧遠|永寧|永安|永興|永寧|石城|新城|遵化|寧化|信安|清河|安溪|歸化|行唐|柳城|寧遠|咸寧|咸寧|保定|建寧|永興|永清|永和|昭德|淳化|寶豐|臨江|吉陽|永昌|清溪|萬壽|義寧|永平|大同|遵化|南昌|大同|懷仁|懷安|河陰|定安|廣陵|龍門|平原|安化|容城|光化|嘉祥|安昌)縣?令'"
      ]
     },
     "execution_count": 25,
     "metadata": {},
     "output_type": "execute_result"
    }
   ],
   "source": [
    "df.iloc[327][\"RegEx\"]"
   ]
  },
  {
   "cell_type": "code",
   "execution_count": null,
   "metadata": {},
   "outputs": [],
   "source": []
  }
 ],
 "metadata": {
  "kernelspec": {
   "display_name": "Python 3",
   "language": "python",
   "name": "python3"
  },
  "language_info": {
   "codemirror_mode": {
    "name": "ipython",
    "version": 3
   },
   "file_extension": ".py",
   "mimetype": "text/x-python",
   "name": "python",
   "nbconvert_exporter": "python",
   "pygments_lexer": "ipython3",
   "version": "3.7.3"
  }
 },
 "nbformat": 4,
 "nbformat_minor": 4
}
