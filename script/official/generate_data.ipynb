{
 "cells": [
  {
   "cell_type": "code",
   "execution_count": 1,
   "metadata": {},
   "outputs": [],
   "source": [
    "import pandas as pd\n",
    "import re\n",
    "from tqdm import tqdm\n",
    "import math\n",
    "import numpy as np\n",
    "import json\n",
    "from ast import literal_eval"
   ]
  },
  {
   "cell_type": "code",
   "execution_count": 2,
   "metadata": {},
   "outputs": [
    {
     "name": "stderr",
     "output_type": "stream",
     "text": [
      "/usr/remote/anaconda-3.7-deeplearn/lib/python3.7/site-packages/openpyxl/worksheet/_reader.py:300: UserWarning: Unknown extension is not supported and will be removed\n",
      "  warn(msg)\n"
     ]
    }
   ],
   "source": [
    "# All QSW records.\n",
    "df_qsw_raw=pd.read_excel('../data_raw/quan_song_wen_muzhi.xlsx', sheet_name='墓誌銘墓表壙誌行狀神道碑塔銘墓碑')[['content_id', 'content', 'subject', 'author']].set_index('content_id')\n",
    "df_qsw_raw['content']=[str(s) for s in df_qsw_raw['content']]\n",
    "df_qsw_raw.dropna(inplace=True)\n",
    "df_qsw_raw = df_qsw_raw[df_qsw_raw['content'] != \"nan\"]"
   ]
  },
  {
   "cell_type": "code",
   "execution_count": 3,
   "metadata": {},
   "outputs": [],
   "source": [
    "# Function for seperating sentences.\n",
    "def sep_mark_sent(string):\n",
    "    string=string.replace('，', '/ws1ep/').replace('；', '/ws2ep/').replace('、', '/ws3ep/')\n",
    "    string=string.replace('！', '/wend/').replace('。', '/wend/').replace('？', '/wend/').replace('！', '/wend/')\n",
    "    string=string.replace('：', '/wm/')\n",
    "    return [s for s in string.split(\"/wend/\") if s!='']"
   ]
  },
  {
   "cell_type": "code",
   "execution_count": 4,
   "metadata": {},
   "outputs": [
    {
     "name": "stderr",
     "output_type": "stream",
     "text": [
      "100%|██████████| 4701/4701 [00:18<00:00, 249.98it/s]\n"
     ]
    }
   ],
   "source": [
    "# Seperate sentences and retain sentences with kinship words.\n",
    "all_sent_count=0\n",
    "kin_sent_count=0\n",
    "df_qsw_refined=pd.DataFrame()\n",
    "for index in tqdm(df_qsw_raw.index):\n",
    "    content=df_qsw_raw.loc[index]['content']\n",
    "    sent_list=sep_mark_sent(content) # Seperate sentences.\n",
    "    all_sent_count+=len(sent_list)\n",
    "    subject=df_qsw_raw.loc[index]['subject']\n",
    "    author=df_qsw_raw.loc[index]['author']\n",
    "    content_id=index\n",
    "    # Retain sentences with kinship information.\n",
    "    df_qsw_refined=pd.concat([pd.DataFrame(data=[[content_id, subject, author, sent, content] for sent in sent_list],\n",
    "                                          columns=['content_id', 'subject', 'author', 'sent', 'content']\n",
    "                                          ), df_qsw_refined], axis=0, ignore_index=True\n",
    "                            )\n",
    "# Run on entire corpus, 21.2%."
   ]
  },
  {
   "cell_type": "code",
   "execution_count": 5,
   "metadata": {},
   "outputs": [],
   "source": [
    "df_qsw_refined.to_excel(\"data.xlsx\")"
   ]
  },
  {
   "cell_type": "code",
   "execution_count": null,
   "metadata": {},
   "outputs": [],
   "source": []
  }
 ],
 "metadata": {
  "kernelspec": {
   "display_name": "Python 3",
   "language": "python",
   "name": "python3"
  },
  "language_info": {
   "codemirror_mode": {
    "name": "ipython",
    "version": 3
   },
   "file_extension": ".py",
   "mimetype": "text/x-python",
   "name": "python",
   "nbconvert_exporter": "python",
   "pygments_lexer": "ipython3",
   "version": "3.7.3"
  }
 },
 "nbformat": 4,
 "nbformat_minor": 4
}
