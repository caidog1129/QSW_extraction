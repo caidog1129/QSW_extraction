{
 "cells": [
  {
   "cell_type": "code",
   "execution_count": 2,
   "metadata": {},
   "outputs": [],
   "source": [
    "import pandas as pd\n",
    "import re\n",
    "from tqdm import tqdm\n",
    "import math\n",
    "import numpy as np\n",
    "import json\n",
    "from ast import literal_eval"
   ]
  },
  {
   "cell_type": "code",
   "execution_count": 3,
   "metadata": {},
   "outputs": [],
   "source": [
    "df = pd.read_excel(\"Song_Offices_RegEx.xlsx\", sheet_name=\"Central\")\n",
    "df.dropna(inplace=True)"
   ]
  },
  {
   "cell_type": "code",
   "execution_count": 4,
   "metadata": {},
   "outputs": [],
   "source": [
    "prefix = \"[權發遣|添差|前|權|攝|充|贈|累贈|檢校|試]?\""
   ]
  },
  {
   "cell_type": "code",
   "execution_count": 5,
   "metadata": {},
   "outputs": [],
   "source": [
    "df['len'] = df['c_office_chn'].apply(len)"
   ]
  },
  {
   "cell_type": "code",
   "execution_count": 6,
   "metadata": {},
   "outputs": [],
   "source": [
    "df = df.sort_values(\"len\", ascending=False, ignore_index=True)"
   ]
  },
  {
   "cell_type": "code",
   "execution_count": 7,
   "metadata": {},
   "outputs": [
    {
     "name": "stderr",
     "output_type": "stream",
     "text": [
      "/usr/remote/anaconda-3.7-deeplearn/lib/python3.7/site-packages/openpyxl/worksheet/_reader.py:300: UserWarning: Unknown extension is not supported and will be removed\n",
      "  warn(msg)\n"
     ]
    }
   ],
   "source": [
    "# All QSW records.\n",
    "df_qsw_raw=pd.read_excel('../data_raw/quan_song_wen_muzhi.xlsx', sheet_name='墓誌銘墓表壙誌行狀神道碑塔銘墓碑')[['content_id', 'content', 'subject', 'author']].set_index('content_id')\n",
    "df_qsw_raw['content']=[str(s) for s in df_qsw_raw['content']]\n",
    "df_qsw_raw.dropna(inplace=True)\n",
    "df_qsw_raw = df_qsw_raw[df_qsw_raw['content'] != \"nan\"]"
   ]
  },
  {
   "cell_type": "code",
   "execution_count": 8,
   "metadata": {},
   "outputs": [],
   "source": [
    "# Function for seperating sentences.\n",
    "def sep_mark_sent(string):\n",
    "    string=string.replace('，', '/ws1ep/').replace('；', '/ws2ep/').replace('、', '/ws3ep/')\n",
    "    string=string.replace('！', '/wend/').replace('。', '/wend/').replace('？', '/wend/').replace('！', '/wend/')\n",
    "    string=string.replace('：', '/wm/')\n",
    "    return [s for s in string.split(\"/wend/\") if s!='']"
   ]
  },
  {
   "cell_type": "code",
   "execution_count": 9,
   "metadata": {},
   "outputs": [
    {
     "name": "stderr",
     "output_type": "stream",
     "text": [
      "100%|██████████| 4701/4701 [01:49<00:00, 42.89it/s] \n"
     ]
    }
   ],
   "source": [
    "# Seperate sentences and retain sentences with kinship words.\n",
    "all_sent_count=0\n",
    "kin_sent_count=0\n",
    "df_qsw_refined=pd.DataFrame()\n",
    "for index in tqdm(df_qsw_raw.index):\n",
    "    content=df_qsw_raw.loc[index]['content']\n",
    "    sent_list=sep_mark_sent(content) # Seperate sentences.\n",
    "    all_sent_count+=len(sent_list)\n",
    "    subject=df_qsw_raw.loc[index]['subject']\n",
    "    author=df_qsw_raw.loc[index]['author']\n",
    "    content_id=index\n",
    "    # Retain sentences with kinship information.\n",
    "    df_qsw_refined=pd.concat([pd.DataFrame(data=[[content_id, subject, author, sent, content] for sent in sent_list],\n",
    "                                          columns=['content_id', 'subject', 'author', 'sent', 'content']\n",
    "                                          ), df_qsw_refined], axis=0, ignore_index=True\n",
    "                            )\n",
    "# Run on entire corpus, 21.2%."
   ]
  },
  {
   "cell_type": "code",
   "execution_count": 10,
   "metadata": {},
   "outputs": [
    {
     "name": "stderr",
     "output_type": "stream",
     "text": [
      "  0%|          | 0/258714 [00:00<?, ?it/s]/home/jc092/.local/lib/python3.7/site-packages/pandas/core/series.py:1056: SettingWithCopyWarning: \n",
      "A value is trying to be set on a copy of a slice from a DataFrame\n",
      "\n",
      "See the caveats in the documentation: https://pandas.pydata.org/pandas-docs/stable/user_guide/indexing.html#returning-a-view-versus-a-copy\n",
      "  cacher_needs_updating = self._check_is_chained_assignment_possible()\n",
      "100%|██████████| 258714/258714 [1:49:11<00:00, 39.49it/s]  \n"
     ]
    }
   ],
   "source": [
    "for i in tqdm(df_qsw_refined.index):\n",
    "    row = df_qsw_refined.loc[i]\n",
    "    title = []\n",
    "    for noc in df['c_office_chn'].values:\n",
    "        if noc in row['sent']:\n",
    "            re_rule = prefix + noc\n",
    "            l = re.findall(re_rule, row['sent'])\n",
    "            row['sent'] = row['sent'].replace(l[0], \"/noc/\")\n",
    "            title.append(l[0])\n",
    "    if title != []:\n",
    "        df_qsw_refined.loc[i, \"no_noc\"] = str(title)"
   ]
  },
  {
   "cell_type": "code",
   "execution_count": 13,
   "metadata": {},
   "outputs": [],
   "source": [
    "df_qsw_refined.dropna(inplace = True)"
   ]
  },
  {
   "cell_type": "code",
   "execution_count": 15,
   "metadata": {},
   "outputs": [],
   "source": [
    "df_qsw_refined.to_excel(\"central_title_list.xlsx\")"
   ]
  },
  {
   "cell_type": "code",
   "execution_count": null,
   "metadata": {},
   "outputs": [],
   "source": []
  }
 ],
 "metadata": {
  "kernelspec": {
   "display_name": "Python 3",
   "language": "python",
   "name": "python3"
  },
  "language_info": {
   "codemirror_mode": {
    "name": "ipython",
    "version": 3
   },
   "file_extension": ".py",
   "mimetype": "text/x-python",
   "name": "python",
   "nbconvert_exporter": "python",
   "pygments_lexer": "ipython3",
   "version": "3.7.3"
  }
 },
 "nbformat": 4,
 "nbformat_minor": 4
}
