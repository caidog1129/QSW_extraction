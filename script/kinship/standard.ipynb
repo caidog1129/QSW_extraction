{
 "cells": [
  {
   "cell_type": "code",
   "execution_count": 1,
   "metadata": {},
   "outputs": [],
   "source": [
    "import pandas as pd\n",
    "import re\n",
    "from tqdm import tqdm\n",
    "import math\n",
    "import numpy as np\n",
    "import json\n",
    "from ast import literal_eval"
   ]
  },
  {
   "cell_type": "code",
   "execution_count": 2,
   "metadata": {},
   "outputs": [],
   "source": [
    "relation = pd.read_excel(\"standard.xlsx\")\n",
    "relation.drop(\"label.id\", inplace=True, axis = 1)\n",
    "father = pd.read_excel(\"father.xlsx\")\n",
    "father.drop(\"Unnamed: 0\", inplace=True, axis=1)"
   ]
  },
  {
   "cell_type": "code",
   "execution_count": 3,
   "metadata": {},
   "outputs": [
    {
     "data": {
      "text/html": [
       "<div>\n",
       "<style scoped>\n",
       "    .dataframe tbody tr th:only-of-type {\n",
       "        vertical-align: middle;\n",
       "    }\n",
       "\n",
       "    .dataframe tbody tr th {\n",
       "        vertical-align: top;\n",
       "    }\n",
       "\n",
       "    .dataframe thead th {\n",
       "        text-align: right;\n",
       "    }\n",
       "</style>\n",
       "<table border=\"1\" class=\"dataframe\">\n",
       "  <thead>\n",
       "    <tr style=\"text-align: right;\">\n",
       "      <th></th>\n",
       "      <th>label.text</th>\n",
       "      <th>c_kinrel</th>\n",
       "      <th>c_kincode</th>\n",
       "      <th>c_kinrel_chn</th>\n",
       "      <th>type</th>\n",
       "      <th>time</th>\n",
       "    </tr>\n",
       "  </thead>\n",
       "  <tbody>\n",
       "    <tr>\n",
       "      <th>0</th>\n",
       "      <td>長女</td>\n",
       "      <td>D1H</td>\n",
       "      <td>332.0</td>\n",
       "      <td>長女婿</td>\n",
       "      <td>NP</td>\n",
       "      <td>-30</td>\n",
       "    </tr>\n",
       "    <tr>\n",
       "      <th>1</th>\n",
       "      <td>姑</td>\n",
       "      <td>FZ</td>\n",
       "      <td>331.0</td>\n",
       "      <td>姑母</td>\n",
       "      <td>NP</td>\n",
       "      <td>30</td>\n",
       "    </tr>\n",
       "    <tr>\n",
       "      <th>2</th>\n",
       "      <td>六女</td>\n",
       "      <td>D6H</td>\n",
       "      <td>356.0</td>\n",
       "      <td>六女婿</td>\n",
       "      <td>NP</td>\n",
       "      <td>-30</td>\n",
       "    </tr>\n",
       "    <tr>\n",
       "      <th>3</th>\n",
       "      <td>先妣</td>\n",
       "      <td>M</td>\n",
       "      <td>111.0</td>\n",
       "      <td>母</td>\n",
       "      <td>P</td>\n",
       "      <td>30</td>\n",
       "    </tr>\n",
       "    <tr>\n",
       "      <th>4</th>\n",
       "      <td>五代祖</td>\n",
       "      <td>G-5</td>\n",
       "      <td>397.0</td>\n",
       "      <td>五世祖</td>\n",
       "      <td>P</td>\n",
       "      <td>150</td>\n",
       "    </tr>\n",
       "    <tr>\n",
       "      <th>...</th>\n",
       "      <td>...</td>\n",
       "      <td>...</td>\n",
       "      <td>...</td>\n",
       "      <td>...</td>\n",
       "      <td>...</td>\n",
       "      <td>...</td>\n",
       "    </tr>\n",
       "    <tr>\n",
       "      <th>133</th>\n",
       "      <td>從妗</td>\n",
       "      <td>MFBSW</td>\n",
       "      <td>NaN</td>\n",
       "      <td>從妗</td>\n",
       "      <td>NP</td>\n",
       "      <td>30</td>\n",
       "    </tr>\n",
       "    <tr>\n",
       "      <th>134</th>\n",
       "      <td>姨</td>\n",
       "      <td>MZ</td>\n",
       "      <td>365.0</td>\n",
       "      <td>姨</td>\n",
       "      <td>NP</td>\n",
       "      <td>30</td>\n",
       "    </tr>\n",
       "    <tr>\n",
       "      <th>135</th>\n",
       "      <td>二人/wsep/曾孫</td>\n",
       "      <td>SSS</td>\n",
       "      <td>255.0</td>\n",
       "      <td>曾孫</td>\n",
       "      <td>P</td>\n",
       "      <td>-90</td>\n",
       "    </tr>\n",
       "    <tr>\n",
       "      <th>136</th>\n",
       "      <td>/wsep/孫男十五人/wsep/曾孫</td>\n",
       "      <td>SSS</td>\n",
       "      <td>NaN</td>\n",
       "      <td>NaN</td>\n",
       "      <td>P</td>\n",
       "      <td>-90</td>\n",
       "    </tr>\n",
       "    <tr>\n",
       "      <th>137</th>\n",
       "      <td>孫男若干人/wsep/曾孫</td>\n",
       "      <td>SSS</td>\n",
       "      <td>255.0</td>\n",
       "      <td>曾孫</td>\n",
       "      <td>P</td>\n",
       "      <td>-90</td>\n",
       "    </tr>\n",
       "  </tbody>\n",
       "</table>\n",
       "<p>138 rows × 6 columns</p>\n",
       "</div>"
      ],
      "text/plain": [
       "              label.text c_kinrel  c_kincode c_kinrel_chn type  time\n",
       "0                     長女      D1H      332.0          長女婿   NP   -30\n",
       "1                      姑       FZ      331.0           姑母   NP    30\n",
       "2                     六女      D6H      356.0          六女婿   NP   -30\n",
       "3                     先妣        M      111.0            母    P    30\n",
       "4                    五代祖      G-5      397.0          五世祖    P   150\n",
       "..                   ...      ...        ...          ...  ...   ...\n",
       "133                   從妗    MFBSW        NaN           從妗   NP    30\n",
       "134                    姨       MZ      365.0            姨   NP    30\n",
       "135           二人/wsep/曾孫      SSS      255.0           曾孫    P   -90\n",
       "136  /wsep/孫男十五人/wsep/曾孫      SSS        NaN          NaN    P   -90\n",
       "137        孫男若干人/wsep/曾孫      SSS      255.0           曾孫    P   -90\n",
       "\n",
       "[138 rows x 6 columns]"
      ]
     },
     "execution_count": 3,
     "metadata": {},
     "output_type": "execute_result"
    }
   ],
   "source": [
    "relation"
   ]
  },
  {
   "cell_type": "code",
   "execution_count": 4,
   "metadata": {},
   "outputs": [
    {
     "name": "stderr",
     "output_type": "stream",
     "text": [
      "100%|██████████| 6486/6486 [00:12<00:00, 505.80it/s]\n"
     ]
    }
   ],
   "source": [
    "for index in tqdm(father.index):\n",
    "    row = father.loc[index]\n",
    "    kin = row['kin']\n",
    "    kinrel = relation.loc[relation['label.text'] == kin].iloc[0]['c_kinrel']\n",
    "    kincode = relation.loc[relation['label.text'] == kin].iloc[0]['c_kincode']\n",
    "    type = relation.loc[relation['label.text'] == kin].iloc[0]['type']\n",
    "    time = relation.loc[relation['label.text'] == kin].iloc[0]['time']\n",
    "    father.loc[index, 'kinrel'] = kinrel\n",
    "    father.loc[index, 'kincode'] = kincode\n",
    "    father.loc[index, 'type'] = type\n",
    "    father.loc[index, 'time'] = time"
   ]
  },
  {
   "cell_type": "code",
   "execution_count": 5,
   "metadata": {},
   "outputs": [
    {
     "name": "stderr",
     "output_type": "stream",
     "text": [
      "100%|██████████| 5843/5843 [00:11<00:00, 504.04it/s]\n"
     ]
    }
   ],
   "source": [
    "mother = pd.read_excel(\"mother.xlsx\")\n",
    "mother.drop(\"Unnamed: 0\", inplace=True, axis=1)\n",
    "for index in tqdm(mother.index):\n",
    "    row = mother.loc[index]\n",
    "    kin = row['kin']\n",
    "    kinrel = relation.loc[relation['label.text'] == kin].iloc[0]['c_kinrel']\n",
    "    kincode = relation.loc[relation['label.text'] == kin].iloc[0]['c_kincode']\n",
    "    type = relation.loc[relation['label.text'] == kin].iloc[0]['type']\n",
    "    time = relation.loc[relation['label.text'] == kin].iloc[0]['time']\n",
    "    mother.loc[index, 'kinrel'] = kinrel\n",
    "    mother.loc[index, 'kincode'] = kincode\n",
    "    mother.loc[index, 'type'] = type\n",
    "    mother.loc[index, 'time'] = time"
   ]
  },
  {
   "cell_type": "code",
   "execution_count": 6,
   "metadata": {},
   "outputs": [
    {
     "name": "stderr",
     "output_type": "stream",
     "text": [
      "100%|██████████| 4401/4401 [00:08<00:00, 500.07it/s]\n"
     ]
    }
   ],
   "source": [
    "son = pd.read_excel(\"son.xlsx\")\n",
    "son.drop(\"Unnamed: 0\", inplace=True, axis=1)\n",
    "for index in tqdm(son.index):\n",
    "    row = son.loc[index]\n",
    "    kin = row['kin']\n",
    "    kinrel = relation.loc[relation['label.text'] == kin].iloc[0]['c_kinrel']\n",
    "    kincode = relation.loc[relation['label.text'] == kin].iloc[0]['c_kincode']\n",
    "    type = relation.loc[relation['label.text'] == kin].iloc[0]['type']\n",
    "    time = relation.loc[relation['label.text'] == kin].iloc[0]['time']\n",
    "    son.loc[index, 'kinrel'] = kinrel\n",
    "    son.loc[index, 'kincode'] = kincode\n",
    "    son.loc[index, 'type'] = type\n",
    "    son.loc[index, 'time'] = time"
   ]
  },
  {
   "cell_type": "code",
   "execution_count": 7,
   "metadata": {},
   "outputs": [
    {
     "name": "stderr",
     "output_type": "stream",
     "text": [
      "100%|██████████| 2783/2783 [00:05<00:00, 514.76it/s]\n"
     ]
    }
   ],
   "source": [
    "daughter = pd.read_excel(\"daughter.xlsx\")\n",
    "daughter.drop(\"Unnamed: 0\", inplace=True, axis=1)\n",
    "for index in tqdm(daughter.index):\n",
    "    row = daughter.loc[index]\n",
    "    kin = row['kin']\n",
    "    kinrel = relation.loc[relation['label.text'] == kin].iloc[0]['c_kinrel']\n",
    "    kincode = relation.loc[relation['label.text'] == kin].iloc[0]['c_kincode']\n",
    "    type = relation.loc[relation['label.text'] == kin].iloc[0]['type']\n",
    "    time = relation.loc[relation['label.text'] == kin].iloc[0]['time']\n",
    "    daughter.loc[index, 'kinrel'] = kinrel\n",
    "    daughter.loc[index, 'kincode'] = kincode\n",
    "    daughter.loc[index, 'type'] = type\n",
    "    daughter.loc[index, 'time'] = time"
   ]
  },
  {
   "cell_type": "code",
   "execution_count": 8,
   "metadata": {},
   "outputs": [],
   "source": [
    "yuefu = pd.read_excel(\"yuefu.xlsx\")\n",
    "yuefu.drop(\"Unnamed: 0\", inplace=True, axis=1)\n",
    "yuefu['kinrel'] = \"WF\"\n",
    "yuefu['kincode'] = 76\n",
    "yuefu['type'] = \"NP\"\n",
    "yuefu['time'] = 30"
   ]
  },
  {
   "cell_type": "code",
   "execution_count": 10,
   "metadata": {},
   "outputs": [],
   "source": [
    "father.to_excel(\"father1.xlsx\", encoding='utf8')\n",
    "mother.to_excel(\"mother1.xlsx\", encoding='utf8')\n",
    "son.to_excel(\"son1.xlsx\", encoding='utf8')\n",
    "daughter.to_excel(\"daughter1.xlsx\", encoding='utf8')\n",
    "yuefu.to_excel(\"yuefu1.xlsx\", encoding='utf8')"
   ]
  },
  {
   "cell_type": "code",
   "execution_count": null,
   "metadata": {},
   "outputs": [],
   "source": []
  }
 ],
 "metadata": {
  "kernelspec": {
   "display_name": "Python 3",
   "language": "python",
   "name": "python3"
  },
  "language_info": {
   "codemirror_mode": {
    "name": "ipython",
    "version": 3
   },
   "file_extension": ".py",
   "mimetype": "text/x-python",
   "name": "python",
   "nbconvert_exporter": "python",
   "pygments_lexer": "ipython3",
   "version": "3.7.3"
  }
 },
 "nbformat": 4,
 "nbformat_minor": 4
}
