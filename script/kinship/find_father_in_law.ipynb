{
 "cells": [
  {
   "cell_type": "code",
   "execution_count": 8,
   "metadata": {},
   "outputs": [],
   "source": [
    "import pandas as pd\n",
    "import re\n",
    "from tqdm import tqdm\n",
    "import math\n",
    "import numpy as np\n",
    "import json\n",
    "from ast import literal_eval\n",
    "import csv"
   ]
  },
  {
   "cell_type": "code",
   "execution_count": 9,
   "metadata": {},
   "outputs": [],
   "source": [
    "df = pd.read_excel(\"mother.xlsx\")\n",
    "df.drop(\"Unnamed: 0\", inplace=True, axis=1)\n",
    "df['yuefu'] = ''"
   ]
  },
  {
   "cell_type": "code",
   "execution_count": 10,
   "metadata": {},
   "outputs": [],
   "source": [
    "re_rule = \"\\/[諱|曰]?(.{1,2})之女\"\n",
    "rule = '([始先早前首再次又後繼]?娶|取|配|妻)(.{1,10}?)氏'\n",
    "for index in df.index:\n",
    "    row = df.loc[index]\n",
    "    if \"之女\" in row['sent_comp']:\n",
    "        kin = re.findall(re_rule, row['sent_comp'])\n",
    "        if len(kin) == 1:\n",
    "            df.loc[index, 'yuefu'] = kin[0]\n",
    "        elif len(kin) > 1:\n",
    "            pass\n",
    "            # not finished\n",
    "            #name = re.findall(rule, row['sent_comp'])\n",
    "            #print(row['sent_comp'])\n",
    "            #print(row['name_string'])\n",
    "            #print(kin)\n",
    "            #print(name)"
   ]
  },
  {
   "cell_type": "code",
   "execution_count": 11,
   "metadata": {},
   "outputs": [],
   "source": [
    "df = df[df['yuefu'] != '']\n",
    "df = df[df['yuefu'] != '某']"
   ]
  },
  {
   "cell_type": "code",
   "execution_count": 12,
   "metadata": {},
   "outputs": [],
   "source": [
    "df['yuefu'] = df['name_string'] + df['yuefu']"
   ]
  },
  {
   "cell_type": "code",
   "execution_count": 13,
   "metadata": {},
   "outputs": [],
   "source": [
    "df.to_excel('yuefu.xlsx', encoding='utf8')"
   ]
  },
  {
   "cell_type": "code",
   "execution_count": null,
   "metadata": {},
   "outputs": [],
   "source": []
  }
 ],
 "metadata": {
  "kernelspec": {
   "display_name": "Python 3",
   "language": "python",
   "name": "python3"
  },
  "language_info": {
   "codemirror_mode": {
    "name": "ipython",
    "version": 3
   },
   "file_extension": ".py",
   "mimetype": "text/x-python",
   "name": "python",
   "nbconvert_exporter": "python",
   "pygments_lexer": "ipython3",
   "version": "3.7.3"
  }
 },
 "nbformat": 4,
 "nbformat_minor": 4
}
