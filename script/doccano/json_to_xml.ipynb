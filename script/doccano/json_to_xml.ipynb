{
 "cells": [
  {
   "cell_type": "code",
   "execution_count": 66,
   "metadata": {},
   "outputs": [],
   "source": [
    "import json"
   ]
  },
  {
   "cell_type": "markdown",
   "metadata": {},
   "source": [
    "# kin version"
   ]
  },
  {
   "cell_type": "code",
   "execution_count": 70,
   "metadata": {},
   "outputs": [],
   "source": [
    "file = open(\"test.jsonl\")\n",
    "filexml = []\n",
    "while file:\n",
    "    line = file.readline()\n",
    "    if line == \"\":\n",
    "        break\n",
    "    d = json.loads(line)\n",
    "    id = d['id']\n",
    "    data = d['data']\n",
    "    dc = data\n",
    "    label = d['label']\n",
    "    label = sorted(label, key=lambda x: x[0])\n",
    "    offset = 0\n",
    "    for l in label:\n",
    "        start = l[0]\n",
    "        end = l[1]\n",
    "        name = l[2]\n",
    "        change = data[start:end]\n",
    "        changed = '<kin type=\"' + name + '\">' + change + \"</kin>\"\n",
    "        dc = dc[:(start+offset)] + changed + dc[(end+offset):]\n",
    "        offset += len(changed) - len(change)\n",
    "    dc = '<item id=\"' + str(id) + '\"><text>' + dc + \"</text></item>\"\n",
    "    filexml.append(dc)"
   ]
  },
  {
   "cell_type": "markdown",
   "metadata": {},
   "source": [
    "# entry and burial version"
   ]
  },
  {
   "cell_type": "code",
   "execution_count": null,
   "metadata": {},
   "outputs": [],
   "source": [
    "file = open(\"test.jsonl\")\n",
    "filexml = []\n",
    "while file:\n",
    "    line = file.readline()\n",
    "    if line == \"\":\n",
    "        break\n",
    "    d = json.loads(line)\n",
    "    id = d['id']\n",
    "    data = d['data']\n",
    "    dc = data\n",
    "    label = d['label']\n",
    "    label = sorted(label, key=lambda x: x[0])\n",
    "    offset = 0\n",
    "    for l in label:\n",
    "        start = l[0]\n",
    "        end = l[1]\n",
    "        name = l[2]\n",
    "        change = data[start:end]\n",
    "        changed = '<entryburial type=\"' + name + '\">' + change + \"</entryburial>\"\n",
    "        dc = dc[:(start+offset)] + changed + dc[(end+offset):]\n",
    "        offset += len(changed) - len(change)\n",
    "    dc = '<item id=\"' + str(id) + '\"><text>' + dc + \"</text></item>\"\n",
    "    filexml.append(dc)"
   ]
  },
  {
   "cell_type": "markdown",
   "metadata": {},
   "source": [
    "# Official version"
   ]
  },
  {
   "cell_type": "code",
   "execution_count": null,
   "metadata": {},
   "outputs": [],
   "source": [
    "file = open(\"test.jsonl\")\n",
    "filexml = []\n",
    "while file:\n",
    "    line = file.readline()\n",
    "    if line == \"\":\n",
    "        break\n",
    "    d = json.loads(line)\n",
    "    id = d['id']\n",
    "    data = d['data']\n",
    "    dc = data\n",
    "    label = d['label']\n",
    "    label = sorted(label, key=lambda x: x[0])\n",
    "    offset = 0\n",
    "    for l in label:\n",
    "        start = l[0]\n",
    "        end = l[1]\n",
    "        name = l[2]\n",
    "        change = data[start:end]\n",
    "        changed = '<official type=\"' + name + '\">' + change + \"</official>\"\n",
    "        dc = dc[:(start+offset)] + changed + dc[(end+offset):]\n",
    "        offset += len(changed) - len(change)\n",
    "    dc = '<item id=\"' + str(id) + '\"><text>' + dc + \"</text></item>\"\n",
    "    filexml.append(dc)"
   ]
  },
  {
   "cell_type": "code",
   "execution_count": 74,
   "metadata": {},
   "outputs": [],
   "source": [
    "with open('test.XML', 'w') as f:\n",
    "    f.write('<?xml version=\"1.0\" encoding=\"UTF-8\"?>\\n')\n",
    "    f.write('<qswfb>\\n')\n",
    "    for x in filexml:\n",
    "        f.write(x + \"\\n\")\n",
    "    f.write('</qswfb>')"
   ]
  },
  {
   "cell_type": "code",
   "execution_count": null,
   "metadata": {},
   "outputs": [],
   "source": []
  }
 ],
 "metadata": {
  "kernelspec": {
   "display_name": "Python 3",
   "language": "python",
   "name": "python3"
  },
  "language_info": {
   "codemirror_mode": {
    "name": "ipython",
    "version": 3
   },
   "file_extension": ".py",
   "mimetype": "text/x-python",
   "name": "python",
   "nbconvert_exporter": "python",
   "pygments_lexer": "ipython3",
   "version": "3.7.3"
  }
 },
 "nbformat": 4,
 "nbformat_minor": 4
}
