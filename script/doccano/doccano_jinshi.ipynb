{
 "cells": [
  {
   "cell_type": "code",
   "execution_count": 1,
   "metadata": {},
   "outputs": [],
   "source": [
    "import pandas as pd\n",
    "import re\n",
    "from tqdm import tqdm\n",
    "import math\n",
    "import numpy as np\n",
    "import json\n",
    "from ast import literal_eval"
   ]
  },
  {
   "cell_type": "code",
   "execution_count": 2,
   "metadata": {},
   "outputs": [],
   "source": [
    "jinshi = pd.read_excel(\"jinshi.xlsx\")"
   ]
  },
  {
   "cell_type": "code",
   "execution_count": 3,
   "metadata": {},
   "outputs": [],
   "source": [
    "def getdoccano(id):\n",
    "    list = []\n",
    "    if id in jinshi['content_id'].values:\n",
    "        table = jinshi[jinshi['content_id'] == id]\n",
    "        content = table['content'].iloc[0]\n",
    "        for index in table.index:\n",
    "            namelist = literal_eval(table['nianhaofull'].loc[index])\n",
    "            for name in namelist:\n",
    "                length = len(name)\n",
    "                start = content.find(name)\n",
    "                if start != -1:\n",
    "                    end = start + length\n",
    "                    list.append([start, end, \"进士\"])\n",
    "    \n",
    "    dict = {\"id\": int(id), \"text\": content, \"label\":list}\n",
    "    dict = json.dumps(dict, ensure_ascii=False)\n",
    "    return dict"
   ]
  },
  {
   "cell_type": "code",
   "execution_count": 5,
   "metadata": {},
   "outputs": [],
   "source": [
    "with open('jinshi.jsonl', 'w') as f:\n",
    "    for id in jinshi[\"content_id\"].values:\n",
    "        f.write(getdoccano(id) + \"\\n\")"
   ]
  },
  {
   "cell_type": "code",
   "execution_count": null,
   "metadata": {},
   "outputs": [],
   "source": []
  }
 ],
 "metadata": {
  "kernelspec": {
   "display_name": "Python 3",
   "language": "python",
   "name": "python3"
  },
  "language_info": {
   "codemirror_mode": {
    "name": "ipython",
    "version": 3
   },
   "file_extension": ".py",
   "mimetype": "text/x-python",
   "name": "python",
   "nbconvert_exporter": "python",
   "pygments_lexer": "ipython3",
   "version": "3.7.3"
  }
 },
 "nbformat": 4,
 "nbformat_minor": 4
}
