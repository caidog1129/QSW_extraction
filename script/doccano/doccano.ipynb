{
 "cells": [
  {
   "cell_type": "code",
   "execution_count": 1,
   "metadata": {},
   "outputs": [],
   "source": [
    "import pandas as pd\n",
    "import re\n",
    "from tqdm import tqdm\n",
    "import math\n",
    "import numpy as np\n",
    "import json\n",
    "from ast import literal_eval"
   ]
  },
  {
   "cell_type": "code",
   "execution_count": 2,
   "metadata": {},
   "outputs": [],
   "source": [
    "father = pd.read_excel(\"father1.xlsx\")\n",
    "mother = pd.read_excel(\"mother1.xlsx\")\n",
    "son = pd.read_excel(\"son1.xlsx\")\n",
    "daughter = pd.read_excel(\"daughter1.xlsx\")\n",
    "yuefu = pd.read_excel(\"yuefu1.xlsx\")"
   ]
  },
  {
   "cell_type": "code",
   "execution_count": 12,
   "metadata": {},
   "outputs": [],
   "source": [
    "def getdoccano(id):\n",
    "    list = []\n",
    "    if id in father['content_id'].values:\n",
    "        table = father[father['content_id'] == id]\n",
    "        content = table['content'].iloc[0]\n",
    "        for index in table.index:\n",
    "            subcontent = table['sent'].loc[index]\n",
    "            name = table['name_string'].loc[index]\n",
    "            kin = table['kinrel'].loc[index]\n",
    "            length = len(name)\n",
    "            start = subcontent.find(name)\n",
    "            if start != -1:\n",
    "                start = start + content.find(subcontent)\n",
    "                end = start + length\n",
    "                if start != end:\n",
    "                    list.append([start, end, kin])\n",
    "    \n",
    "    if id in mother['content_id'].values:\n",
    "        table1 = mother[mother['content_id'] == id]\n",
    "        content = table1['content'].iloc[0]\n",
    "        for index in table1.index:\n",
    "            subcontent = table1['sent'].loc[index]\n",
    "            place = content.find(subcontent)\n",
    "            name = table1['name_string'].loc[index]\n",
    "            kin = table1['kinrel'].loc[index]\n",
    "            length = len(name)\n",
    "            start = subcontent.find(name)\n",
    "            if start != -1:\n",
    "                start = start + content.find(subcontent)\n",
    "                end = start + length\n",
    "                if start != end:\n",
    "                    list.append([start, end, kin])\n",
    "                    \n",
    "    if id in yuefu['content_id'].values:            \n",
    "        table4 = yuefu[yuefu[\"content_id\"] == id]\n",
    "        content = table4['content'].iloc[0]\n",
    "        for index in table4.index:\n",
    "            subcontent = table4['sent'].loc[index]\n",
    "            place = content.find(subcontent)\n",
    "            name = table4['name_string'].loc[index]\n",
    "            kin = table4['kinrel'].loc[index]\n",
    "            length = len(name)\n",
    "            start = subcontent.find(name)\n",
    "            if start != -1:\n",
    "                start = start + place\n",
    "                end = start + length\n",
    "                if start != end:\n",
    "                    list.append([start, end, kin])\n",
    "                    \n",
    "    if id in son['content_id'].values:     \n",
    "        table2 = son[son['content_id'] == id]\n",
    "        content = table2['content'].iloc[0]\n",
    "        for index in table2.index:\n",
    "            subcontent = table2['sent'].loc[index]\n",
    "            namelist = literal_eval(table2['name_string'].loc[index])\n",
    "            kin = table2['kinrel'].loc[index]\n",
    "            offset = content.find(subcontent)\n",
    "            for name in namelist:\n",
    "                length = len(name)\n",
    "                start = subcontent.find(name)\n",
    "                if start != -1:\n",
    "                    start = start + offset\n",
    "                    end = start + length\n",
    "                    if start != end:\n",
    "                        list.append([start, end, kin])\n",
    "                        \n",
    "    if id in daughter['content_id'].values:     \n",
    "        table3 = daughter[daughter['content_id'] == id]\n",
    "        content = table3['content'].iloc[0]\n",
    "        for index in table3.index:\n",
    "            subcontent = table3['sent'].loc[index]\n",
    "            namelist = literal_eval(table3['name_string'].loc[index])\n",
    "            kin = table3['kinrel'].loc[index]\n",
    "            offset = content.find(subcontent)\n",
    "            for name in namelist:\n",
    "                length = len(name)\n",
    "                start = subcontent.find(name)\n",
    "                if start != -1:\n",
    "                    start = start + offset\n",
    "                    end = start + length\n",
    "                    if start != end:\n",
    "                        list.append([start, end, kin])\n",
    "        \n",
    "    dict = {\"id\": int(id), \"text\": content, \"label\":list}\n",
    "    dict = json.dumps(dict, ensure_ascii=False)\n",
    "    return dict"
   ]
  },
  {
   "cell_type": "code",
   "execution_count": 13,
   "metadata": {},
   "outputs": [
    {
     "data": {
      "text/plain": [
       "'{\"id\": 4967120, \"text\": \"君諱宣輔，字仲申。其先天水人也，累世從宦，不常厥居。曾祖全真，工部員外郎、滕州刺史。祖倚，太子校書。考臺，歙州海寧令。君即海寧府君第三子也，生于廣陵，長于江左。幼而俊敏，博綜羣書，尤善名法之學〔一〕。烈祖輔政，方申明紀律，君以是中選，釋褐補江都府文學，直刑部。明年，改信州司法參軍，察獄詳刑，號爲詳練。久之，召赴闕，以本官權參元帥府法曹事。踰年，改大理評事。元宗嗣服之初，精心庶獄，權要舉不附己者，因中傷之，君坐黜爲饒州司士參軍。明年，王師伐閩，護軍查公表君才可煩，使以本官判軍司事。時頓兵深入，自冬涉秋，經束馬懸車之塗，督飛芻輓粟之役，事集師尅，君有力焉。師還，加朝散大夫，行常州義興令，推誠率下，民用協和。丁憂去職，復爲江州録事參軍。時連帥議浚湓浦，以屯舟師，詔從之。君以無益戎備而勞民力，乃指陳利害，抗疏極論。上甚嘉之，即命止役。由是遷大理司直，通判蘄州軍州事。明年，遷檢校水部員外郎，充建州觀察推官，通判軍府事。會越人闚邊，使間誘建民，將以爲亂。君廉得其實，盡案誅之。優詔褒美，賜衣一襲，遷檢校屯田員外郎。三年，徵拜守水部員外郎，判度支。時師旅荐興，軍食不給，命君爲沿江催運使，軺傳所至，轉輸如流。朝議以姑熟居畿甸之間，實供億之始，徙君爲當塗令。踰月，復徵爲主客員外郎，判大理寺，賜紫金魚袋。始君以理官得罪，至是上知其無私，故復任焉。守官循理，挺然中立，轉工部員外郎，仍判寺事。今上嗣位，上疏論時政，以爲刺史縣令，親民之先，而考績掄材，未盡其理。上深然之，遷朝議大夫、戶部員外，充宣、歙、常、潤等道安撫使。以刺舉無避，爲權臣所排，宸鑑昭明，故得無咎。使還，以本官判兵部事。廬陵羣盗充斥，州兵不能制，上憂之，亟命君爲奉化軍節度判官，判吉州事，轉主客郎中，擒奸摘伏，克舉其職。其年秋九月七日遇暴疾，翌日終于郡之官舍，享年六十有一。明年春二月，歸葬江寧府某所，禮也。夫人查氏，吉王府長史昌之女、工部尚書文徽之妹。婉嬺之德，閨房之秀，內助著美，士林所推。子七人：長曰鈞，袁州新喻尉；次曰錯，樞密院承旨；次曰鍾，舉進士；次曰銓，前國子監三《禮》；次曰[CFont]NFCE5[/CFont]、鉞、鐭，皆國子監生。女一人，適秘書省正字周希定。君有孝悌之性，聞于宗族；敦然諾之信，稱于友朋。守己有常，事君不諂。位未達而知足，祿雖優而彌貧。其當官持事也，必盡己所長，不爲利回，不爲威惕，故屢失大臣意，然好直之士亦以此多之。鉉久塵近職，熟君操行，直筆聳善，以告後人，故銘其墓曰：英英趙君，松茂蘭薰。應用以法，飾身以文。道直詞正，心平氣純。如何不淑，今也爲塵。金陵仙鄉，古多名人。歸骨于是，與善爲鄰。泉臺不曉，壟樹空春。勒銘掛劍，慷慨霑巾。《徐公文集》卷一五。又見《全唐文》卷八八六。〔一〕名：原作‘身’，據《全唐文》、徐校、李校、四庫本改。\", \"label\": [[51, 52, \"F\"], [43, 44, \"FF\"], [28, 30, \"FFF\"], [833, 834, \"S\"], [843, 844, \"S\"], [853, 854, \"S\"], [861, 862, \"S\"], [895, 896, \"S\"], [897, 898, \"S\"], [903, 904, \"S\"], [915, 918, \"DH\"]]}'"
      ]
     },
     "execution_count": 13,
     "metadata": {},
     "output_type": "execute_result"
    }
   ],
   "source": [
    "getdoccano(4967120)"
   ]
  },
  {
   "cell_type": "code",
   "execution_count": 14,
   "metadata": {},
   "outputs": [],
   "source": [
    "index = sorted(list(set(father[\"content_id\"].values) | set(mother[\"content_id\"].values) |\n",
    "     set(son[\"content_id\"].values) | set(daughter[\"content_id\"].values) | set(yuefu[\"content_id\"].values)))\n",
    "splits = np.array_split(index, 4)"
   ]
  },
  {
   "cell_type": "code",
   "execution_count": 15,
   "metadata": {},
   "outputs": [],
   "source": [
    "with open('kinship1.jsonl', 'w') as f:\n",
    "    for id in splits[0]:\n",
    "        f.write(getdoccano(id) + \"\\n\")\n",
    "\n",
    "with open('kinship2.jsonl', 'w') as f:\n",
    "    for id in splits[1]:\n",
    "        f.write(getdoccano(id) + \"\\n\")\n",
    "\n",
    "with open('kinship3.jsonl', 'w') as f:\n",
    "    for id in splits[2]:\n",
    "        f.write(getdoccano(id) + \"\\n\")\n",
    "    \n",
    "with open('kinship4.jsonl', 'w') as f:\n",
    "    for id in splits[3]:\n",
    "        f.write(getdoccano(id) + \"\\n\")"
   ]
  },
  {
   "cell_type": "code",
   "execution_count": null,
   "metadata": {},
   "outputs": [],
   "source": []
  }
 ],
 "metadata": {
  "kernelspec": {
   "display_name": "Python 3",
   "language": "python",
   "name": "python3"
  },
  "language_info": {
   "codemirror_mode": {
    "name": "ipython",
    "version": 3
   },
   "file_extension": ".py",
   "mimetype": "text/x-python",
   "name": "python",
   "nbconvert_exporter": "python",
   "pygments_lexer": "ipython3",
   "version": "3.7.3"
  }
 },
 "nbformat": 4,
 "nbformat_minor": 4
}
